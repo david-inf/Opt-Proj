{
 "cells": [
  {
   "cell_type": "code",
   "execution_count": 1,
   "id": "0e90fd8e-5e87-4bd3-a0c3-00e3577a4504",
   "metadata": {},
   "outputs": [],
   "source": [
    "from sklearn.datasets import load_breast_cancer\n",
    "from sklearn.model_selection import train_test_split\n",
    "import pandas as pd\n",
    "import numpy as np"
   ]
  },
  {
   "cell_type": "code",
   "execution_count": 2,
   "id": "dec07f81-e28f-4a1b-81a6-da3450887bb9",
   "metadata": {},
   "outputs": [],
   "source": [
    "dat = load_breast_cancer()"
   ]
  },
  {
   "cell_type": "code",
   "execution_count": 5,
   "id": "569fcd5d-3ac1-4c45-8b4d-5788c2becff6",
   "metadata": {},
   "outputs": [
    {
     "name": "stdout",
     "output_type": "stream",
     "text": [
      "The sklearn breast cancer dataset keys:\n",
      "dict_keys(['data', 'target', 'frame', 'target_names', 'DESCR', 'feature_names', 'filename', 'data_module'])\n",
      "---\n",
      "There are 2 target classes:\n",
      "li_classes ['benign', 'malignant']\n",
      "---\n",
      "Target class distribution from a total of 569 target values:\n",
      "0    357\n",
      "1    212\n",
      "Name: count, dtype: int64\n",
      "---\n",
      "Describe dataframe, first 6 columns:\n",
      "       mean radius  mean texture  mean perimeter    mean area  mean smoothness  mean compactness\n",
      "count   569.000000    569.000000      569.000000   569.000000       569.000000        569.000000\n",
      "mean     14.127292     19.289649       91.969033   654.889104         0.096360          0.104341\n",
      "std       3.524049      4.301036       24.298981   351.914129         0.014064          0.052813\n",
      "min       6.981000      9.710000       43.790000   143.500000         0.052630          0.019380\n",
      "25%      11.700000     16.170000       75.170000   420.300000         0.086370          0.064920\n",
      "50%      13.370000     18.840000       86.240000   551.100000         0.095870          0.092630\n",
      "75%      15.780000     21.800000      104.100000   782.700000         0.105300          0.130400\n",
      "max      28.110000     39.280000      188.500000  2501.000000         0.163400          0.345400\n"
     ]
    }
   ],
   "source": [
    "print(\"The sklearn breast cancer dataset keys:\")\n",
    "print(dat.keys()) # dict_keys(['target_names', 'target', 'feature_names', 'data', 'DESCR'])\n",
    "print(\"---\")\n",
    "\n",
    "# Note that we need to reverse the original '0' and '1' mapping in order to end up with this mapping:\n",
    "# Benign = 0 (negative class)\n",
    "# Malignant = 1 (positive class)\n",
    "\n",
    "li_classes = [dat.target_names[1], dat.target_names[0]]\n",
    "li_target = [1 if x==0 else 0 for x in list(dat.target)]\n",
    "li_ftrs = list(dat.feature_names)\n",
    "\n",
    "print(\"There are 2 target classes:\")\n",
    "print(\"li_classes\", li_classes)\n",
    "print(\"---\")\n",
    "print(\"Target class distribution from a total of %d target values:\" % len(li_target))\n",
    "print(pd.Series(li_target).value_counts())\n",
    "print(\"---\")\n",
    "\n",
    "df_all = pd.DataFrame(dat.data[:,:], columns=li_ftrs)\n",
    "print(\"Describe dataframe, first 6 columns:\")\n",
    "print(df_all.iloc[:,:6].describe().to_string())"
   ]
  },
  {
   "cell_type": "code",
   "execution_count": 6,
   "id": "c8d84378-1471-4e75-8391-e0131b1fa8e6",
   "metadata": {},
   "outputs": [
    {
     "name": "stdout",
     "output_type": "stream",
     "text": [
      "X_train.shape, y_train.shape (455, 30) (455,)\n",
      "X_test.shape, y_test.shape (114, 30) (114,)\n"
     ]
    }
   ],
   "source": [
    "TEST_SIZE_RATIO = 0.2\n",
    "\n",
    "# Setup X and y\n",
    "X = df_all\n",
    "y = pd.Series(li_target)\n",
    "\n",
    "X_train, X_test, y_train, y_test = train_test_split(X, y, test_size=TEST_SIZE_RATIO, random_state=0)\n",
    "print(\"X_train.shape, y_train.shape\", X_train.shape, y_train.shape)\n",
    "print(\"X_test.shape, y_test.shape\", X_test.shape, y_test.shape)"
   ]
  },
  {
   "cell_type": "code",
   "execution_count": 8,
   "id": "4cfc2108-9e85-4c03-b9ff-f98b98c68062",
   "metadata": {},
   "outputs": [
    {
     "data": {
      "text/html": [
       "<style>#sk-container-id-1 {color: black;}#sk-container-id-1 pre{padding: 0;}#sk-container-id-1 div.sk-toggleable {background-color: white;}#sk-container-id-1 label.sk-toggleable__label {cursor: pointer;display: block;width: 100%;margin-bottom: 0;padding: 0.3em;box-sizing: border-box;text-align: center;}#sk-container-id-1 label.sk-toggleable__label-arrow:before {content: \"▸\";float: left;margin-right: 0.25em;color: #696969;}#sk-container-id-1 label.sk-toggleable__label-arrow:hover:before {color: black;}#sk-container-id-1 div.sk-estimator:hover label.sk-toggleable__label-arrow:before {color: black;}#sk-container-id-1 div.sk-toggleable__content {max-height: 0;max-width: 0;overflow: hidden;text-align: left;background-color: #f0f8ff;}#sk-container-id-1 div.sk-toggleable__content pre {margin: 0.2em;color: black;border-radius: 0.25em;background-color: #f0f8ff;}#sk-container-id-1 input.sk-toggleable__control:checked~div.sk-toggleable__content {max-height: 200px;max-width: 100%;overflow: auto;}#sk-container-id-1 input.sk-toggleable__control:checked~label.sk-toggleable__label-arrow:before {content: \"▾\";}#sk-container-id-1 div.sk-estimator input.sk-toggleable__control:checked~label.sk-toggleable__label {background-color: #d4ebff;}#sk-container-id-1 div.sk-label input.sk-toggleable__control:checked~label.sk-toggleable__label {background-color: #d4ebff;}#sk-container-id-1 input.sk-hidden--visually {border: 0;clip: rect(1px 1px 1px 1px);clip: rect(1px, 1px, 1px, 1px);height: 1px;margin: -1px;overflow: hidden;padding: 0;position: absolute;width: 1px;}#sk-container-id-1 div.sk-estimator {font-family: monospace;background-color: #f0f8ff;border: 1px dotted black;border-radius: 0.25em;box-sizing: border-box;margin-bottom: 0.5em;}#sk-container-id-1 div.sk-estimator:hover {background-color: #d4ebff;}#sk-container-id-1 div.sk-parallel-item::after {content: \"\";width: 100%;border-bottom: 1px solid gray;flex-grow: 1;}#sk-container-id-1 div.sk-label:hover label.sk-toggleable__label {background-color: #d4ebff;}#sk-container-id-1 div.sk-serial::before {content: \"\";position: absolute;border-left: 1px solid gray;box-sizing: border-box;top: 0;bottom: 0;left: 50%;z-index: 0;}#sk-container-id-1 div.sk-serial {display: flex;flex-direction: column;align-items: center;background-color: white;padding-right: 0.2em;padding-left: 0.2em;position: relative;}#sk-container-id-1 div.sk-item {position: relative;z-index: 1;}#sk-container-id-1 div.sk-parallel {display: flex;align-items: stretch;justify-content: center;background-color: white;position: relative;}#sk-container-id-1 div.sk-item::before, #sk-container-id-1 div.sk-parallel-item::before {content: \"\";position: absolute;border-left: 1px solid gray;box-sizing: border-box;top: 0;bottom: 0;left: 50%;z-index: -1;}#sk-container-id-1 div.sk-parallel-item {display: flex;flex-direction: column;z-index: 1;position: relative;background-color: white;}#sk-container-id-1 div.sk-parallel-item:first-child::after {align-self: flex-end;width: 50%;}#sk-container-id-1 div.sk-parallel-item:last-child::after {align-self: flex-start;width: 50%;}#sk-container-id-1 div.sk-parallel-item:only-child::after {width: 0;}#sk-container-id-1 div.sk-dashed-wrapped {border: 1px dashed gray;margin: 0 0.4em 0.5em 0.4em;box-sizing: border-box;padding-bottom: 0.4em;background-color: white;}#sk-container-id-1 div.sk-label label {font-family: monospace;font-weight: bold;display: inline-block;line-height: 1.2em;}#sk-container-id-1 div.sk-label-container {text-align: center;}#sk-container-id-1 div.sk-container {/* jupyter's `normalize.less` sets `[hidden] { display: none; }` but bootstrap.min.css set `[hidden] { display: none !important; }` so we also need the `!important` here to be able to override the default hidden behavior on the sphinx rendered scikit-learn.org. See: https://github.com/scikit-learn/scikit-learn/issues/21755 */display: inline-block !important;position: relative;}#sk-container-id-1 div.sk-text-repr-fallback {display: none;}</style><div id=\"sk-container-id-1\" class=\"sk-top-container\"><div class=\"sk-text-repr-fallback\"><pre>StandardScaler()</pre><b>In a Jupyter environment, please rerun this cell to show the HTML representation or trust the notebook. <br />On GitHub, the HTML representation is unable to render, please try loading this page with nbviewer.org.</b></div><div class=\"sk-container\" hidden><div class=\"sk-item\"><div class=\"sk-estimator sk-toggleable\"><input class=\"sk-toggleable__control sk-hidden--visually\" id=\"sk-estimator-id-1\" type=\"checkbox\" checked><label for=\"sk-estimator-id-1\" class=\"sk-toggleable__label sk-toggleable__label-arrow\">StandardScaler</label><div class=\"sk-toggleable__content\"><pre>StandardScaler()</pre></div></div></div></div></div>"
      ],
      "text/plain": [
       "StandardScaler()"
      ]
     },
     "execution_count": 8,
     "metadata": {},
     "output_type": "execute_result"
    }
   ],
   "source": [
    "from sklearn.preprocessing import StandardScaler\n",
    "scaler = StandardScaler()\n",
    "scaler.fit(X_train)"
   ]
  },
  {
   "cell_type": "code",
   "execution_count": 9,
   "id": "21f2c118-fd52-4a41-9feb-5174a61f4203",
   "metadata": {},
   "outputs": [],
   "source": [
    "X_train_scaled = scaler.transform(X_train)\n",
    "X_test_scaled = scaler.transform(X_test)\n",
    "\n",
    "X_train_const = np.hstack((np.ones((X_train_scaled.shape[0],1)), X_train_scaled))\n",
    "X_test_const = np.hstack((np.ones((X_test_scaled.shape[0],1)), X_test_scaled))"
   ]
  },
  {
   "cell_type": "code",
   "execution_count": 10,
   "id": "c48f9b4b-1d17-4878-9508-ddfd710f730a",
   "metadata": {},
   "outputs": [],
   "source": [
    "X_train_breast = pd.DataFrame(X_train_const)\n",
    "X_test_breast = pd.DataFrame(X_test_const)"
   ]
  },
  {
   "cell_type": "code",
   "execution_count": 11,
   "id": "f3dc1d45-c67f-4448-8db9-058ee086547f",
   "metadata": {},
   "outputs": [
    {
     "data": {
      "text/html": [
       "<div>\n",
       "<style scoped>\n",
       "    .dataframe tbody tr th:only-of-type {\n",
       "        vertical-align: middle;\n",
       "    }\n",
       "\n",
       "    .dataframe tbody tr th {\n",
       "        vertical-align: top;\n",
       "    }\n",
       "\n",
       "    .dataframe thead th {\n",
       "        text-align: right;\n",
       "    }\n",
       "</style>\n",
       "<table border=\"1\" class=\"dataframe\">\n",
       "  <thead>\n",
       "    <tr style=\"text-align: right;\">\n",
       "      <th></th>\n",
       "      <th>0</th>\n",
       "      <th>1</th>\n",
       "      <th>2</th>\n",
       "      <th>3</th>\n",
       "      <th>4</th>\n",
       "      <th>5</th>\n",
       "      <th>6</th>\n",
       "      <th>7</th>\n",
       "      <th>8</th>\n",
       "      <th>9</th>\n",
       "      <th>...</th>\n",
       "      <th>21</th>\n",
       "      <th>22</th>\n",
       "      <th>23</th>\n",
       "      <th>24</th>\n",
       "      <th>25</th>\n",
       "      <th>26</th>\n",
       "      <th>27</th>\n",
       "      <th>28</th>\n",
       "      <th>29</th>\n",
       "      <th>30</th>\n",
       "    </tr>\n",
       "  </thead>\n",
       "  <tbody>\n",
       "    <tr>\n",
       "      <th>419</th>\n",
       "      <td>1.0</td>\n",
       "      <td>-0.688803</td>\n",
       "      <td>-0.718006</td>\n",
       "      <td>-0.672326</td>\n",
       "      <td>-0.652144</td>\n",
       "      <td>1.188801</td>\n",
       "      <td>-0.211932</td>\n",
       "      <td>-0.575101</td>\n",
       "      <td>-0.450526</td>\n",
       "      <td>0.159344</td>\n",
       "      <td>...</td>\n",
       "      <td>-0.601022</td>\n",
       "      <td>-0.647981</td>\n",
       "      <td>-0.604795</td>\n",
       "      <td>-0.565752</td>\n",
       "      <td>0.891150</td>\n",
       "      <td>-0.681059</td>\n",
       "      <td>-0.594186</td>\n",
       "      <td>-0.249777</td>\n",
       "      <td>-0.159181</td>\n",
       "      <td>-0.182723</td>\n",
       "    </tr>\n",
       "    <tr>\n",
       "      <th>62</th>\n",
       "      <td>1.0</td>\n",
       "      <td>-1.224838</td>\n",
       "      <td>0.189467</td>\n",
       "      <td>-1.223254</td>\n",
       "      <td>-1.004323</td>\n",
       "      <td>0.434313</td>\n",
       "      <td>-0.997506</td>\n",
       "      <td>-1.037824</td>\n",
       "      <td>-1.057009</td>\n",
       "      <td>-1.678584</td>\n",
       "      <td>...</td>\n",
       "      <td>-1.092304</td>\n",
       "      <td>0.123279</td>\n",
       "      <td>-1.129743</td>\n",
       "      <td>-0.879367</td>\n",
       "      <td>-0.038018</td>\n",
       "      <td>-1.027402</td>\n",
       "      <td>-1.238611</td>\n",
       "      <td>-1.389104</td>\n",
       "      <td>-1.541840</td>\n",
       "      <td>0.359023</td>\n",
       "    </tr>\n",
       "    <tr>\n",
       "      <th>326</th>\n",
       "      <td>1.0</td>\n",
       "      <td>-0.394309</td>\n",
       "      <td>-1.293302</td>\n",
       "      <td>-0.413332</td>\n",
       "      <td>-0.452017</td>\n",
       "      <td>0.018620</td>\n",
       "      <td>-0.384433</td>\n",
       "      <td>-0.959964</td>\n",
       "      <td>-0.763844</td>\n",
       "      <td>-0.626252</td>\n",
       "      <td>...</td>\n",
       "      <td>-0.564175</td>\n",
       "      <td>-1.322423</td>\n",
       "      <td>-0.546566</td>\n",
       "      <td>-0.559094</td>\n",
       "      <td>-0.117660</td>\n",
       "      <td>-0.684328</td>\n",
       "      <td>-1.078946</td>\n",
       "      <td>-0.781892</td>\n",
       "      <td>-0.850510</td>\n",
       "      <td>-0.802020</td>\n",
       "    </tr>\n",
       "    <tr>\n",
       "      <th>157</th>\n",
       "      <td>1.0</td>\n",
       "      <td>-0.380151</td>\n",
       "      <td>0.543310</td>\n",
       "      <td>-0.403449</td>\n",
       "      <td>-0.409252</td>\n",
       "      <td>-0.647360</td>\n",
       "      <td>-0.739745</td>\n",
       "      <td>-0.725263</td>\n",
       "      <td>-0.520037</td>\n",
       "      <td>-0.421632</td>\n",
       "      <td>...</td>\n",
       "      <td>-0.513000</td>\n",
       "      <td>-0.334554</td>\n",
       "      <td>-0.531787</td>\n",
       "      <td>-0.515048</td>\n",
       "      <td>-1.706979</td>\n",
       "      <td>-1.059767</td>\n",
       "      <td>-1.081303</td>\n",
       "      <td>-1.022509</td>\n",
       "      <td>-1.152470</td>\n",
       "      <td>-0.830681</td>\n",
       "    </tr>\n",
       "    <tr>\n",
       "      <th>76</th>\n",
       "      <td>1.0</td>\n",
       "      <td>-1.116385</td>\n",
       "      <td>-1.028521</td>\n",
       "      <td>-1.122786</td>\n",
       "      <td>-0.955689</td>\n",
       "      <td>1.232329</td>\n",
       "      <td>-0.450261</td>\n",
       "      <td>-0.986213</td>\n",
       "      <td>-0.928284</td>\n",
       "      <td>3.411343</td>\n",
       "      <td>...</td>\n",
       "      <td>-1.071834</td>\n",
       "      <td>-1.327346</td>\n",
       "      <td>-1.098707</td>\n",
       "      <td>-0.875099</td>\n",
       "      <td>-0.219426</td>\n",
       "      <td>-1.001705</td>\n",
       "      <td>-1.232644</td>\n",
       "      <td>-1.358759</td>\n",
       "      <td>1.037533</td>\n",
       "      <td>-0.184970</td>\n",
       "    </tr>\n",
       "  </tbody>\n",
       "</table>\n",
       "<p>5 rows × 31 columns</p>\n",
       "</div>"
      ],
      "text/plain": [
       "      0         1         2         3         4         5         6   \\\n",
       "419  1.0 -0.688803 -0.718006 -0.672326 -0.652144  1.188801 -0.211932   \n",
       "62   1.0 -1.224838  0.189467 -1.223254 -1.004323  0.434313 -0.997506   \n",
       "326  1.0 -0.394309 -1.293302 -0.413332 -0.452017  0.018620 -0.384433   \n",
       "157  1.0 -0.380151  0.543310 -0.403449 -0.409252 -0.647360 -0.739745   \n",
       "76   1.0 -1.116385 -1.028521 -1.122786 -0.955689  1.232329 -0.450261   \n",
       "\n",
       "           7         8         9   ...        21        22        23  \\\n",
       "419 -0.575101 -0.450526  0.159344  ... -0.601022 -0.647981 -0.604795   \n",
       "62  -1.037824 -1.057009 -1.678584  ... -1.092304  0.123279 -1.129743   \n",
       "326 -0.959964 -0.763844 -0.626252  ... -0.564175 -1.322423 -0.546566   \n",
       "157 -0.725263 -0.520037 -0.421632  ... -0.513000 -0.334554 -0.531787   \n",
       "76  -0.986213 -0.928284  3.411343  ... -1.071834 -1.327346 -1.098707   \n",
       "\n",
       "           24        25        26        27        28        29        30  \n",
       "419 -0.565752  0.891150 -0.681059 -0.594186 -0.249777 -0.159181 -0.182723  \n",
       "62  -0.879367 -0.038018 -1.027402 -1.238611 -1.389104 -1.541840  0.359023  \n",
       "326 -0.559094 -0.117660 -0.684328 -1.078946 -0.781892 -0.850510 -0.802020  \n",
       "157 -0.515048 -1.706979 -1.059767 -1.081303 -1.022509 -1.152470 -0.830681  \n",
       "76  -0.875099 -0.219426 -1.001705 -1.232644 -1.358759  1.037533 -0.184970  \n",
       "\n",
       "[5 rows x 31 columns]"
      ]
     },
     "execution_count": 11,
     "metadata": {},
     "output_type": "execute_result"
    }
   ],
   "source": [
    "X_train_breast.sample(5)"
   ]
  },
  {
   "cell_type": "code",
   "execution_count": 12,
   "id": "b35ba4a3-dda5-4364-b349-701e5484b388",
   "metadata": {},
   "outputs": [],
   "source": [
    "X_train_breast.to_csv(\"breast_X_train.csv\", index=False)\n",
    "X_test_breast.to_csv(\"breast_X_test.csv\", index=False)\n",
    "y_train.to_csv(\"breast_y_train.csv\", index=False)\n",
    "y_test.to_csv(\"breast_y_test.csv\", index=False)"
   ]
  }
 ],
 "metadata": {
  "kernelspec": {
   "display_name": "Python 3 (ipykernel)",
   "language": "python",
   "name": "python3"
  },
  "language_info": {
   "codemirror_mode": {
    "name": "ipython",
    "version": 3
   },
   "file_extension": ".py",
   "mimetype": "text/x-python",
   "name": "python",
   "nbconvert_exporter": "python",
   "pygments_lexer": "ipython3",
   "version": "3.9.18"
  }
 },
 "nbformat": 4,
 "nbformat_minor": 5
}
