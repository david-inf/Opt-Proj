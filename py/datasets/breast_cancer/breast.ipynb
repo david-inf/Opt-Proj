{
 "cells": [
  {
   "cell_type": "code",
   "execution_count": 28,
   "id": "0e90fd8e-5e87-4bd3-a0c3-00e3577a4504",
   "metadata": {},
   "outputs": [],
   "source": [
    "from sklearn.datasets import load_breast_cancer\n",
    "from sklearn.model_selection import train_test_split\n",
    "import pandas as pd\n",
    "import numpy as np"
   ]
  },
  {
   "cell_type": "code",
   "execution_count": 25,
   "id": "dec07f81-e28f-4a1b-81a6-da3450887bb9",
   "metadata": {},
   "outputs": [],
   "source": [
    "dat = load_breast_cancer()"
   ]
  },
  {
   "cell_type": "code",
   "execution_count": 26,
   "id": "569fcd5d-3ac1-4c45-8b4d-5788c2becff6",
   "metadata": {},
   "outputs": [
    {
     "name": "stdout",
     "output_type": "stream",
     "text": [
      "The sklearn breast cancer dataset keys:\n",
      "dict_keys(['data', 'target', 'frame', 'target_names', 'DESCR', 'feature_names', 'filename', 'data_module'])\n",
      "---\n",
      "There are 2 target classes:\n",
      "li_classes ['benign', 'malignant']\n",
      "---\n",
      "Target class distribution from a total of 569 target values:\n",
      "0    357\n",
      "1    212\n",
      "Name: count, dtype: int64\n",
      "---\n",
      "Describe dataframe, first 6 columns:\n",
      "       mean radius  mean texture  mean perimeter    mean area  mean smoothness  mean compactness\n",
      "count   569.000000    569.000000      569.000000   569.000000       569.000000        569.000000\n",
      "mean     14.127292     19.289649       91.969033   654.889104         0.096360          0.104341\n",
      "std       3.524049      4.301036       24.298981   351.914129         0.014064          0.052813\n",
      "min       6.981000      9.710000       43.790000   143.500000         0.052630          0.019380\n",
      "25%      11.700000     16.170000       75.170000   420.300000         0.086370          0.064920\n",
      "50%      13.370000     18.840000       86.240000   551.100000         0.095870          0.092630\n",
      "75%      15.780000     21.800000      104.100000   782.700000         0.105300          0.130400\n",
      "max      28.110000     39.280000      188.500000  2501.000000         0.163400          0.345400\n"
     ]
    }
   ],
   "source": [
    "print(\"The sklearn breast cancer dataset keys:\")\n",
    "print(dat.keys()) # dict_keys(['target_names', 'target', 'feature_names', 'data', 'DESCR'])\n",
    "print(\"---\")\n",
    "\n",
    "# Note that we need to reverse the original '0' and '1' mapping in order to end up with this mapping:\n",
    "# Benign = 0 (negative class)\n",
    "# Malignant = 1 (positive class)\n",
    "\n",
    "li_classes = [dat.target_names[1], dat.target_names[0]]\n",
    "li_target = [1 if x==0 else 0 for x in list(dat.target)]\n",
    "li_ftrs = list(dat.feature_names)\n",
    "\n",
    "print(\"There are 2 target classes:\")\n",
    "print(\"li_classes\", li_classes)\n",
    "print(\"---\")\n",
    "print(\"Target class distribution from a total of %d target values:\" % len(li_target))\n",
    "print(pd.Series(li_target).value_counts())\n",
    "print(\"---\")\n",
    "\n",
    "df_all = pd.DataFrame(dat.data[:,:], columns=li_ftrs)\n",
    "print(\"Describe dataframe, first 6 columns:\")\n",
    "print(df_all.iloc[:,:6].describe().to_string())"
   ]
  },
  {
   "cell_type": "code",
   "execution_count": 29,
   "id": "c8d84378-1471-4e75-8391-e0131b1fa8e6",
   "metadata": {},
   "outputs": [
    {
     "name": "stdout",
     "output_type": "stream",
     "text": [
      "X_train_0.shape, y_train.shape (284, 30) (284,)\n",
      "X_test_0.shape, y_test.shape (285, 30) (285,)\n"
     ]
    }
   ],
   "source": [
    "TEST_SIZE_RATIO = 0.5  # split into 2 equally sized train and test sets\n",
    "\n",
    "# Setup X and y\n",
    "X = df_all\n",
    "y = pd.Series(li_target)\n",
    "\n",
    "X_train_0, X_test_0, y_train, y_test = train_test_split(X, y, test_size=TEST_SIZE_RATIO, random_state=0)\n",
    "print(\"X_train_0.shape, y_train.shape\", X_train_0.shape, y_train.shape)\n",
    "print(\"X_test_0.shape, y_test.shape\", X_test_0.shape, y_test.shape)"
   ]
  },
  {
   "cell_type": "markdown",
   "id": "4a23a630-b6c9-4314-9de4-aba607785a6d",
   "metadata": {},
   "source": [
    "# Processato altrove"
   ]
  },
  {
   "cell_type": "code",
   "execution_count": 31,
   "id": "b35ba4a3-dda5-4364-b349-701e5484b388",
   "metadata": {},
   "outputs": [],
   "source": [
    "X_train = pd.read_csv(\"breast_X_train.csv\")\n",
    "y_train = pd.read_csv(\"breast_y_train.csv\")\n",
    "X_test = pd.read_csv(\"breast_X_test.csv\")\n",
    "y_test = pd.read_csv(\"breast_y_test.csv\")"
   ]
  },
  {
   "cell_type": "code",
   "execution_count": 33,
   "id": "74aaffbb-7824-4589-bdff-8b5ef6051c78",
   "metadata": {},
   "outputs": [
    {
     "data": {
      "text/html": [
       "<div>\n",
       "<style scoped>\n",
       "    .dataframe tbody tr th:only-of-type {\n",
       "        vertical-align: middle;\n",
       "    }\n",
       "\n",
       "    .dataframe tbody tr th {\n",
       "        vertical-align: top;\n",
       "    }\n",
       "\n",
       "    .dataframe thead th {\n",
       "        text-align: right;\n",
       "    }\n",
       "</style>\n",
       "<table border=\"1\" class=\"dataframe\">\n",
       "  <thead>\n",
       "    <tr style=\"text-align: right;\">\n",
       "      <th></th>\n",
       "      <th>worst concave points</th>\n",
       "      <th>radius error</th>\n",
       "      <th>worst smoothness</th>\n",
       "      <th>worst symmetry</th>\n",
       "      <th>worst texture</th>\n",
       "      <th>concave points error</th>\n",
       "      <th>mean symmetry</th>\n",
       "      <th>compactness error</th>\n",
       "      <th>concavity error</th>\n",
       "    </tr>\n",
       "  </thead>\n",
       "  <tbody>\n",
       "    <tr>\n",
       "      <th>32</th>\n",
       "      <td>0.1999</td>\n",
       "      <td>0.5959</td>\n",
       "      <td>0.1497</td>\n",
       "      <td>0.3379</td>\n",
       "      <td>24.57</td>\n",
       "      <td>0.01267</td>\n",
       "      <td>0.1776</td>\n",
       "      <td>0.01800</td>\n",
       "      <td>0.02749</td>\n",
       "    </tr>\n",
       "    <tr>\n",
       "      <th>178</th>\n",
       "      <td>0.2475</td>\n",
       "      <td>0.9915</td>\n",
       "      <td>0.1342</td>\n",
       "      <td>0.3157</td>\n",
       "      <td>26.93</td>\n",
       "      <td>0.01597</td>\n",
       "      <td>0.1991</td>\n",
       "      <td>0.03212</td>\n",
       "      <td>0.03571</td>\n",
       "    </tr>\n",
       "    <tr>\n",
       "      <th>46</th>\n",
       "      <td>0.1251</td>\n",
       "      <td>0.1745</td>\n",
       "      <td>0.1235</td>\n",
       "      <td>0.3153</td>\n",
       "      <td>19.14</td>\n",
       "      <td>0.01196</td>\n",
       "      <td>0.1990</td>\n",
       "      <td>0.01812</td>\n",
       "      <td>0.01951</td>\n",
       "    </tr>\n",
       "    <tr>\n",
       "      <th>199</th>\n",
       "      <td>0.2625</td>\n",
       "      <td>2.5470</td>\n",
       "      <td>0.1357</td>\n",
       "      <td>0.2641</td>\n",
       "      <td>31.37</td>\n",
       "      <td>0.02598</td>\n",
       "      <td>0.2061</td>\n",
       "      <td>0.05374</td>\n",
       "      <td>0.08055</td>\n",
       "    </tr>\n",
       "    <tr>\n",
       "      <th>269</th>\n",
       "      <td>0.1899</td>\n",
       "      <td>0.5907</td>\n",
       "      <td>0.1585</td>\n",
       "      <td>0.3313</td>\n",
       "      <td>33.82</td>\n",
       "      <td>0.01127</td>\n",
       "      <td>0.1927</td>\n",
       "      <td>0.05616</td>\n",
       "      <td>0.04252</td>\n",
       "    </tr>\n",
       "  </tbody>\n",
       "</table>\n",
       "</div>"
      ],
      "text/plain": [
       "     worst concave points  radius error  worst smoothness  worst symmetry  \\\n",
       "32                 0.1999        0.5959            0.1497          0.3379   \n",
       "178                0.2475        0.9915            0.1342          0.3157   \n",
       "46                 0.1251        0.1745            0.1235          0.3153   \n",
       "199                0.2625        2.5470            0.1357          0.2641   \n",
       "269                0.1899        0.5907            0.1585          0.3313   \n",
       "\n",
       "     worst texture  concave points error  mean symmetry  compactness error  \\\n",
       "32           24.57               0.01267         0.1776            0.01800   \n",
       "178          26.93               0.01597         0.1991            0.03212   \n",
       "46           19.14               0.01196         0.1990            0.01812   \n",
       "199          31.37               0.02598         0.2061            0.05374   \n",
       "269          33.82               0.01127         0.1927            0.05616   \n",
       "\n",
       "     concavity error  \n",
       "32           0.02749  \n",
       "178          0.03571  \n",
       "46           0.01951  \n",
       "199          0.08055  \n",
       "269          0.04252  "
      ]
     },
     "execution_count": 33,
     "metadata": {},
     "output_type": "execute_result"
    }
   ],
   "source": [
    "X_train.sample(5)"
   ]
  },
  {
   "cell_type": "code",
   "execution_count": null,
   "id": "e1cb2df4-81e2-4a3d-b5c4-8caafbef511f",
   "metadata": {},
   "outputs": [],
   "source": []
  }
 ],
 "metadata": {
  "kernelspec": {
   "display_name": "Python 3 (ipykernel)",
   "language": "python",
   "name": "python3"
  },
  "language_info": {
   "codemirror_mode": {
    "name": "ipython",
    "version": 3
   },
   "file_extension": ".py",
   "mimetype": "text/x-python",
   "name": "python",
   "nbconvert_exporter": "python",
   "pygments_lexer": "ipython3",
   "version": "3.9.18"
  }
 },
 "nbformat": 4,
 "nbformat_minor": 5
}
