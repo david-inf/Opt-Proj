{
 "cells": [
  {
   "cell_type": "code",
   "execution_count": 7,
   "id": "c288ecba-c433-4308-8521-3b722f3b5c22",
   "metadata": {},
   "outputs": [
    {
     "data": {
      "application/vnd.jupyter.widget-view+json": {
       "model_id": "b278d717cd454141baa2c2cb29f1e28a",
       "version_major": 2,
       "version_minor": 0
      },
      "text/plain": [
       "interactive(children=(FloatSlider(value=1.0, continuous_update=False, description='Amplitude:', max=2.0, min=0…"
      ]
     },
     "execution_count": 7,
     "metadata": {},
     "output_type": "execute_result"
    }
   ],
   "source": [
    "import numpy as np\n",
    "import matplotlib.pyplot as plt\n",
    "import ipywidgets as widgets\n",
    "#from IPython.display import display\n",
    "\n",
    "# Generate some sample data\n",
    "x = np.linspace(0, 10, 100)\n",
    "y = np.sin(x)\n",
    "\n",
    "# Create a function to update the plot based on the slider value\n",
    "def update_plot(amplitude):\n",
    "    plt.figure(figsize=(8, 6))\n",
    "    plt.plot(x, amplitude * np.sin(x))\n",
    "    plt.title(f\"Sine Wave with Amplitude = {amplitude:.2f}\")\n",
    "    plt.xlabel(\"X\")\n",
    "    plt.ylabel(\"Y\")\n",
    "    plt.grid(True)\n",
    "    plt.ylim([-2, 2])\n",
    "    plt.show()\n",
    "\n",
    "# Create a slider widget\n",
    "amplitude_slider = widgets.FloatSlider(\n",
    "    value=1.0,\n",
    "    min=0.1,\n",
    "    max=2.0,\n",
    "    step=0.1,\n",
    "    description='Amplitude:',\n",
    "    continuous_update=False\n",
    ")\n",
    "\n",
    "# Display the slider widget\n",
    "#display(amplitude_slider)\n",
    "\n",
    "# Link the slider value to the update_plot function\n",
    "widgets.interactive(update_plot, amplitude=amplitude_slider)\n"
   ]
  }
 ],
 "metadata": {
  "kernelspec": {
   "display_name": "Python 3 (ipykernel)",
   "language": "python",
   "name": "python3"
  },
  "language_info": {
   "codemirror_mode": {
    "name": "ipython",
    "version": 3
   },
   "file_extension": ".py",
   "mimetype": "text/x-python",
   "name": "python",
   "nbconvert_exporter": "python",
   "pygments_lexer": "ipython3",
   "version": "3.11.7"
  }
 },
 "nbformat": 4,
 "nbformat_minor": 5
}
