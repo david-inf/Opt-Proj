{
 "cells": [
  {
   "cell_type": "code",
   "execution_count": 17,
   "id": "97380f7b-3e2c-474f-8347-491657ab011f",
   "metadata": {},
   "outputs": [],
   "source": [
    "import numpy as np\n",
    "import pandas as pd\n",
    "\n",
    "from solvers import minibatch_gd_fixed, minibatch_gd_decreasing\n",
    "from plot_utils import plot_loss\n",
    "from ml_utils import get_accuracy, optim_data"
   ]
  },
  {
   "cell_type": "markdown",
   "id": "086a4929-911a-4d91-99db-cce7e27462fb",
   "metadata": {},
   "source": [
    "# Apple quality dataset"
   ]
  },
  {
   "cell_type": "code",
   "execution_count": 3,
   "id": "9b87c1b3-84da-4d94-a78b-08ec76236070",
   "metadata": {},
   "outputs": [],
   "source": [
    "# load with constant column\n",
    "X_train_apple = pd.read_csv(\"datasets/apple_quality/apple_X_train.csv\").values\n",
    "y_train_apple = pd.read_csv(\"datasets/apple_quality/apple_y_train.csv\").values.reshape(-1)\n",
    "X_test_apple = pd.read_csv(\"datasets/apple_quality/apple_X_test.csv\").values\n",
    "y_test_apple = pd.read_csv(\"datasets/apple_quality/apple_y_test.csv\").values.reshape(-1)"
   ]
  },
  {
   "cell_type": "code",
   "execution_count": 4,
   "id": "c7636ad7-911d-402d-91f8-fb7462d2c2ea",
   "metadata": {},
   "outputs": [],
   "source": [
    "X_train_apple = np.hstack((np.ones((X_train_apple.shape[0],1)), X_train_apple))\n",
    "X_test_apple = np.hstack((np.ones((X_test_apple.shape[0],1)), X_test_apple))"
   ]
  },
  {
   "cell_type": "code",
   "execution_count": 5,
   "id": "7c2aef45-f34f-49a5-a2b2-0bd034d613f7",
   "metadata": {},
   "outputs": [
    {
     "name": "stdout",
     "output_type": "stream",
     "text": [
      "\n",
      "Apple quality dataset\n",
      "X_train = (3084, 8)\n",
      "X_test = (772, 8)\n"
     ]
    }
   ],
   "source": [
    "print(f\"\"\"\n",
    "Apple quality dataset\n",
    "X_train = {X_train_apple.shape}\n",
    "X_test = {X_test_apple.shape}\"\"\")"
   ]
  },
  {
   "cell_type": "code",
   "execution_count": 6,
   "id": "e15ef9c3-fac8-4a59-9c6c-455b1a397b42",
   "metadata": {},
   "outputs": [],
   "source": [
    "# intercept initial guess already added\n",
    "w0 = np.array([-4, 3, -1, 1, 0, 2, 2.5, -1])"
   ]
  },
  {
   "cell_type": "markdown",
   "id": "5f1fb1bf-f12e-464d-b04e-0a7a0a756564",
   "metadata": {},
   "source": [
    "## MiniGD fixed and decreasing"
   ]
  },
  {
   "cell_type": "code",
   "execution_count": 14,
   "id": "0526f7f1-4f53-4f6c-88ce-913da7637d35",
   "metadata": {},
   "outputs": [],
   "source": [
    "models1 = []\n",
    "M1 = 32"
   ]
  },
  {
   "cell_type": "code",
   "execution_count": 15,
   "id": "5f06ef46-75ac-4076-96a6-8b8dcdfa2094",
   "metadata": {},
   "outputs": [],
   "source": [
    "sgd_fixed_1 = minibatch_gd_fixed(w0, 0.1, M1, X_train_apple, y_train_apple)\n",
    "sgd_fixed_1.accuracy_train = get_accuracy(sgd_fixed_1, X_train_apple, y_train_apple)\n",
    "sgd_fixed_1.accuracy_test = get_accuracy(sgd_fixed_1, X_test_apple, y_test_apple)\n",
    "models1.append(sgd_fixed_1)\n",
    "\n",
    "sgd_fixed_2 = minibatch_gd_fixed(w0, 0.01, M1, X_train_apple, y_train_apple)\n",
    "sgd_fixed_2.accuracy_train = get_accuracy(sgd_fixed_2, X_train_apple, y_train_apple)\n",
    "sgd_fixed_2.accuracy_test = get_accuracy(sgd_fixed_2, X_test_apple, y_test_apple)\n",
    "models1.append(sgd_fixed_2)\n",
    "\n",
    "sgd_fixed_3 = minibatch_gd_fixed(w0, 0.001, M1, X_train_apple, y_train_apple)\n",
    "sgd_fixed_3.accuracy_train = get_accuracy(sgd_fixed_3, X_train_apple, y_train_apple)\n",
    "sgd_fixed_3.accuracy_test = get_accuracy(sgd_fixed_3, X_test_apple, y_test_apple)\n",
    "models1.append(sgd_fixed_3)"
   ]
  },
  {
   "cell_type": "code",
   "execution_count": 18,
   "id": "2f442a0a-b11d-47cb-b521-b9dfc2ca4ee5",
   "metadata": {},
   "outputs": [],
   "source": [
    "sgd_decre_1 = minibatch_gd_decreasing(w0, 1, M1, X_train_apple, y_train_apple)\n",
    "sgd_decre_1.accuracy_train = get_accuracy(sgd_decre_1, X_train_apple, y_train_apple)\n",
    "sgd_decre_1.accuracy_test = get_accuracy(sgd_decre_1, X_test_apple, y_test_apple)\n",
    "models1.append(sgd_decre_1)\n",
    "\n",
    "sgd_decre_2 = minibatch_gd_decreasing(w0, 0.1, M1, X_train_apple, y_train_apple)\n",
    "sgd_decre_2.accuracy_train = get_accuracy(sgd_decre_2, X_train_apple, y_train_apple)\n",
    "sgd_decre_2.accuracy_test = get_accuracy(sgd_decre_2, X_test_apple, y_test_apple)\n",
    "models1.append(sgd_decre_2)\n",
    "\n",
    "sgd_decre_3 = minibatch_gd_decreasing(w0, 0.01, M1, X_train_apple, y_train_apple)\n",
    "sgd_decre_3.accuracy_train = get_accuracy(sgd_decre_3, X_train_apple, y_train_apple)\n",
    "sgd_decre_3.accuracy_test = get_accuracy(sgd_decre_3, X_test_apple, y_test_apple)\n",
    "models1.append(sgd_decre_3)"
   ]
  },
  {
   "cell_type": "code",
   "execution_count": 19,
   "id": "72065b8e-3650-4e78-be6f-1d64cddce5c1",
   "metadata": {},
   "outputs": [
    {
     "data": {
      "text/html": [
       "<div>\n",
       "<style scoped>\n",
       "    .dataframe tbody tr th:only-of-type {\n",
       "        vertical-align: middle;\n",
       "    }\n",
       "\n",
       "    .dataframe tbody tr th {\n",
       "        vertical-align: top;\n",
       "    }\n",
       "\n",
       "    .dataframe thead th {\n",
       "        text-align: right;\n",
       "    }\n",
       "</style>\n",
       "<table border=\"1\" class=\"dataframe\">\n",
       "  <thead>\n",
       "    <tr style=\"text-align: right;\">\n",
       "      <th></th>\n",
       "      <th>Solver</th>\n",
       "      <th>Minibatch</th>\n",
       "      <th>Step-size</th>\n",
       "      <th>Momentum</th>\n",
       "      <th>Loss</th>\n",
       "      <th>Grad norm</th>\n",
       "      <th>Run-time</th>\n",
       "      <th>Termination</th>\n",
       "      <th>Train accuracy</th>\n",
       "      <th>Test accuracy</th>\n",
       "    </tr>\n",
       "  </thead>\n",
       "  <tbody>\n",
       "    <tr>\n",
       "      <th>0</th>\n",
       "      <td>MiniGD-fixed</td>\n",
       "      <td>32</td>\n",
       "      <td>0.100</td>\n",
       "      <td>0</td>\n",
       "      <td>3074.877623</td>\n",
       "      <td>149.217325</td>\n",
       "      <td>0.379762</td>\n",
       "      <td>Max epochs exceeded</td>\n",
       "      <td>0.495785</td>\n",
       "      <td>0.516839</td>\n",
       "    </tr>\n",
       "    <tr>\n",
       "      <th>1</th>\n",
       "      <td>MiniGD-fixed</td>\n",
       "      <td>32</td>\n",
       "      <td>0.010</td>\n",
       "      <td>0</td>\n",
       "      <td>3071.604318</td>\n",
       "      <td>137.461130</td>\n",
       "      <td>0.410772</td>\n",
       "      <td>Max epochs exceeded</td>\n",
       "      <td>0.573930</td>\n",
       "      <td>0.580311</td>\n",
       "    </tr>\n",
       "    <tr>\n",
       "      <th>2</th>\n",
       "      <td>MiniGD-fixed</td>\n",
       "      <td>32</td>\n",
       "      <td>0.001</td>\n",
       "      <td>0</td>\n",
       "      <td>3071.649154</td>\n",
       "      <td>137.878362</td>\n",
       "      <td>0.412793</td>\n",
       "      <td>Max epochs exceeded</td>\n",
       "      <td>0.655966</td>\n",
       "      <td>0.646373</td>\n",
       "    </tr>\n",
       "    <tr>\n",
       "      <th>3</th>\n",
       "      <td>MiniGD-decreasing</td>\n",
       "      <td>32</td>\n",
       "      <td>1.000</td>\n",
       "      <td>0</td>\n",
       "      <td>3071.630122</td>\n",
       "      <td>137.684532</td>\n",
       "      <td>0.349443</td>\n",
       "      <td>Max epochs exceeded</td>\n",
       "      <td>0.624514</td>\n",
       "      <td>0.628238</td>\n",
       "    </tr>\n",
       "    <tr>\n",
       "      <th>4</th>\n",
       "      <td>MiniGD-decreasing</td>\n",
       "      <td>32</td>\n",
       "      <td>0.100</td>\n",
       "      <td>0</td>\n",
       "      <td>3071.649748</td>\n",
       "      <td>137.899563</td>\n",
       "      <td>0.469029</td>\n",
       "      <td>Max epochs exceeded</td>\n",
       "      <td>0.658560</td>\n",
       "      <td>0.647668</td>\n",
       "    </tr>\n",
       "    <tr>\n",
       "      <th>5</th>\n",
       "      <td>MiniGD-decreasing</td>\n",
       "      <td>32</td>\n",
       "      <td>0.010</td>\n",
       "      <td>0</td>\n",
       "      <td>3069.873398</td>\n",
       "      <td>137.864112</td>\n",
       "      <td>0.404460</td>\n",
       "      <td>Max epochs exceeded</td>\n",
       "      <td>0.667315</td>\n",
       "      <td>0.664508</td>\n",
       "    </tr>\n",
       "  </tbody>\n",
       "</table>\n",
       "</div>"
      ],
      "text/plain": [
       "              Solver  Minibatch  Step-size  Momentum         Loss   Grad norm  \\\n",
       "0       MiniGD-fixed         32      0.100         0  3074.877623  149.217325   \n",
       "1       MiniGD-fixed         32      0.010         0  3071.604318  137.461130   \n",
       "2       MiniGD-fixed         32      0.001         0  3071.649154  137.878362   \n",
       "3  MiniGD-decreasing         32      1.000         0  3071.630122  137.684532   \n",
       "4  MiniGD-decreasing         32      0.100         0  3071.649748  137.899563   \n",
       "5  MiniGD-decreasing         32      0.010         0  3069.873398  137.864112   \n",
       "\n",
       "   Run-time          Termination  Train accuracy  Test accuracy  \n",
       "0  0.379762  Max epochs exceeded        0.495785       0.516839  \n",
       "1  0.410772  Max epochs exceeded        0.573930       0.580311  \n",
       "2  0.412793  Max epochs exceeded        0.655966       0.646373  \n",
       "3  0.349443  Max epochs exceeded        0.624514       0.628238  \n",
       "4  0.469029  Max epochs exceeded        0.658560       0.647668  \n",
       "5  0.404460  Max epochs exceeded        0.667315       0.664508  "
      ]
     },
     "execution_count": 19,
     "metadata": {},
     "output_type": "execute_result"
    }
   ],
   "source": [
    "sgd_data_1 = optim_data(models1)\n",
    "sgd_data_1"
   ]
  },
  {
   "cell_type": "code",
   "execution_count": 20,
   "id": "9360c02d-9781-410b-b6eb-64a0a3bbd250",
   "metadata": {},
   "outputs": [
    {
     "data": {
      "image/png": "[encoded data removed]",
      "text/plain": [
       "<Figure size 640x480 with 1 Axes>"
      ]
     },
     "metadata": {},
     "output_type": "display_data"
    }
   ],
   "source": [
    "plot_loss(models1, [f\"MiniGD-fixed({model.step_size})\" for model in models1])"
   ]
  }
 ],
 "metadata": {
  "kernelspec": {
   "display_name": "Python 3 (ipykernel)",
   "language": "python",
   "name": "python3"
  },
  "language_info": {
   "codemirror_mode": {
    "name": "ipython",
    "version": 3
   },
   "file_extension": ".py",
   "mimetype": "text/x-python",
   "name": "python",
   "nbconvert_exporter": "python",
   "pygments_lexer": "ipython3",
   "version": "3.11.7"
  }
 },
 "nbformat": 4,
 "nbformat_minor": 5
}
