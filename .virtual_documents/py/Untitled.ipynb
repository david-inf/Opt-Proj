import numpy as np
import matplotlib.pyplot as plt
import ipywidgets as widgets
#from IPython.display import display

# Generate some sample data
x = np.linspace(0, 10, 100)
y = np.sin(x)

# Create a function to update the plot based on the slider value
def update_plot(amplitude):
    plt.figure(figsize=(8, 6))
    plt.plot(x, amplitude * np.sin(x))
    plt.title(f"Sine Wave with Amplitude = {amplitude:.2f}")
    plt.xlabel("X")
    plt.ylabel("Y")
    plt.grid(True)
    plt.ylim([-2, 2])
    plt.show()

# Create a slider widget
amplitude_slider = widgets.FloatSlider(
    value=1.0,
    min=0.1,
    max=2.0,
    step=0.1,
    description='Amplitude:',
    continuous_update=False
)

# Display the slider widget
#display(amplitude_slider)

# Link the slider value to the update_plot function
widgets.interactive(update_plot, amplitude=amplitude_slider)

